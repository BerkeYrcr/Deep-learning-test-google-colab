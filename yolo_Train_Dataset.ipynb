{
  "cells": [
    {
      "cell_type": "markdown",
      "metadata": {
        "id": "view-in-github",
        "colab_type": "text"
      },
      "source": [
        "<a href=\"https://colab.research.google.com/github/BerkeYrcr/Preparing-dataset-with-roboflow-for-yolov5/blob/main/yolo_Train_Dataset.ipynb\" target=\"_parent\"><img src=\"https://colab.research.google.com/assets/colab-badge.svg\" alt=\"Open In Colab\"/></a>"
      ]
    },
    {
      "cell_type": "markdown",
      "metadata": {
        "id": "fa6_zCCOM3lg"
      },
      "source": [
        "# **Yolov5 Custom dataset eğitimi**"
      ]
    },
    {
      "cell_type": "markdown",
      "metadata": {
        "id": "5349D-dZNfZ7"
      },
      "source": [
        "# **Kurulum**"
      ]
    },
    {
      "cell_type": "code",
      "execution_count": null,
      "metadata": {
        "id": "1OnDIFj5I14z"
      },
      "outputs": [],
      "source": [
        "!git clone https://github.com/ultralytics/yolov5  # yolov5'i klonluyoruz\n",
        "%cd yolov5 #yolov5 klasörüne giriş yapıyoruz\n",
        "%pip install -qr requirements.txt # gerekli kütüphaneleri indiriyoruz\n",
        "%pip install -q roboflow #roboflow'u indiriyoruz\n",
        "%pip install nvidia-tensorrt#tensorrt'yi indiriyoruz\n",
        "import torch\n",
        "import os\n",
        "from IPython.display import Image, clear_output  # resimleri görüntülemek için kütüphaneyi import ediyoruz\n",
        "\n",
        "print(f\"Setup complete. Using torch {torch.__version__} ({torch.cuda.get_device_properties(0).name if torch.cuda.is_available() else 'CPU'})\") #hangi ekran kartının kullanıldığını yazdırıyoruz"
      ]
    },
    {
      "cell_type": "markdown",
      "metadata": {
        "id": "21icD9uIQJC-"
      },
      "source": [
        "# **Roboflowu aktif ediyoruz ve roboflowdaki verisetimizi indiriyoruz**"
      ]
    },
    {
      "cell_type": "code",
      "execution_count": 3,
      "metadata": {
        "id": "lQo-emdNI_eI"
      },
      "outputs": [],
      "source": [
        "from roboflow import Roboflow \n",
        "rf = Roboflow(model_format=\"yolov5\", notebook=\"ultralytics\") \n",
        "# environment'ı kuruyoruz\n",
        "os.environ[\"DATASET_DIRECTORY\"] = \"/content/datasets\""
      ]
    },
    {
      "cell_type": "code",
      "execution_count": null,
      "metadata": {
        "id": "4MO-8su2JAvT"
      },
      "outputs": [],
      "source": [
        "#roboflowdan aldığımız api kodlarını kopyalıyoruz çalıştırınca indirecek\n",
        "rf = Roboflow(api_key=\"7vXEPUGzaKswGlwleHmN\")\n",
        "project = rf.workspace(\"savasaniha\").project(\"droness-wk9ba\")\n",
        "dataset = project.version(3).download(\"yolov5\")"
      ]
    },
    {
      "cell_type": "markdown",
      "metadata": {
        "id": "oy2O-ZryQSKq"
      },
      "source": [
        "# **Modelin eğitimine başlıyoruz**"
      ]
    },
    {
      "cell_type": "code",
      "execution_count": null,
      "metadata": {
        "id": "TT8EiSacJGN5"
      },
      "outputs": [],
      "source": [
        "# 640*640'lık resimleri 8 lik batchler halinde 100 epochda eğitiyoruz.Bu kısım elinizdeki datasetin büyüklüğüne göre değişebilir ve saatler sürebilir.\n",
        "!python train.py --img 640 --batch 8 --epochs 100 --data {dataset.location}/data.yaml --weights yolov5s.pt --cache"
      ]
    },
    {
      "cell_type": "markdown",
      "metadata": {
        "id": "RN1h_qt_QaOJ"
      },
      "source": [
        "# **Modelin başarı oranını grafikller halinde bakıyoruz**"
      ]
    },
    {
      "cell_type": "code",
      "execution_count": null,
      "metadata": {
        "id": "hgUGYgY_JGc7"
      },
      "outputs": [],
      "source": [
        "# tensorboard'ı aktif ediyoruz\n",
        "# runs klasörünün içine kaydediyoruz\n",
        "%load_ext tensorboard\n",
        "%tensorboard --logdir runs"
      ]
    },
    {
      "cell_type": "markdown",
      "metadata": {
        "id": "08e_fmiVRF0l"
      },
      "source": [
        "# **Test verilerini deniyoruz**"
      ]
    },
    {
      "cell_type": "code",
      "execution_count": null,
      "metadata": {
        "id": "0tUfuHfOJGfL"
      },
      "outputs": [],
      "source": [
        "#test resimlerimizi işliyoruz ve elde edilen sonuçları bir sonraki adımda görüyoruz.\n",
        "!python detect.py --weights /content/yolov5/runs/train/exp/weights/best.pt --img 416 --conf 0.2 --source {dataset.location}/valid/images"
      ]
    },
    {
      "cell_type": "markdown",
      "metadata": {
        "id": "SgQLDsdMRRne"
      },
      "source": [
        "# **Test verileri ekranda gösteriyoruz**"
      ]
    },
    {
      "cell_type": "code",
      "execution_count": null,
      "metadata": {
        "id": "A9rpsUgXJGhc"
      },
      "outputs": [],
      "source": [
        "\n",
        "#İşlediğimiz verileri ekranda görünmesini sağlıyoruz\n",
        "import glob\n",
        "from IPython.display import Image, display\n",
        "\n",
        "i = 0\n",
        "# Dosya uzantısının doğru olduğundan emin olunuz eğer birdan fazla test yaptıysanız exp,exp2 gibi klasörler oluşacaktır dosya yolundan kontrol edin\n",
        "for imageName in glob.glob('/content/yolov5/runs/detect/exp/*.jpg'): #dosya uzantısını kontrol ediniz jpg olmak zorunda değil\n",
        "    i += 1\n",
        "\n",
        "    if i < 12:\n",
        "      display(Image(filename=imageName))\n",
        "      print(\"\\n\")"
      ]
    },
    {
      "cell_type": "markdown",
      "metadata": {
        "id": "Wpvs0T6wRZ81"
      },
      "source": [
        "# **Modeli kaydediyoruz**"
      ]
    },
    {
      "cell_type": "code",
      "execution_count": null,
      "metadata": {
        "id": "g0wTe6M1JGjz"
      },
      "outputs": [],
      "source": [
        "#modelimizi kaydediyoruz.Eğer bilgisayarınıza indirmek isterseniz aşağıda yazan dosya yolundan indirebilirsiniz.\n",
        "from google.colab import files\n",
        "files.download('/content/yolov5/runs/train')"
      ]
    },
    {
      "cell_type": "markdown",
      "source": [
        "# **Dataseti tensorrtye değiştirme için gerekli kütüphaneleri yüklüyoruz**\n"
      ],
      "metadata": {
        "id": "gyaM9LYqXjvT"
      }
    },
    {
      "cell_type": "code",
      "source": [
        "!pip install -r /content/yolov5/requirements.txt coremltools onnx onnx-simplifier onnxruntime-gpu openvino-dev tensorflow"
      ],
      "metadata": {
        "id": "ByjuNHbvGvb3"
      },
      "execution_count": null,
      "outputs": []
    },
    {
      "cell_type": "markdown",
      "source": [
        "# **Pytorch Datasetini Tensorrt datasetine çevirme**\n"
      ],
      "metadata": {
        "id": "Z-4wj3w_VXrV"
      }
    },
    {
      "cell_type": "code",
      "source": [
        "!python export.py --device 0 --weights /content/yolov5/yolov5s.pt --include engine"
      ],
      "metadata": {
        "id": "m8XLmQ-UG7Ns"
      },
      "execution_count": null,
      "outputs": []
    },
    {
      "cell_type": "markdown",
      "source": [
        "# **Yaptığımız dataseti benchmarka sokuyoruz(**ZORUNLU DEĞİL**)**"
      ],
      "metadata": {
        "id": "J3RmFVgDXuuo"
      }
    },
    {
      "cell_type": "markdown",
      "source": [],
      "metadata": {
        "id": "ioejXBBIXueh"
      }
    },
    {
      "cell_type": "code",
      "source": [
        "!python benchmarks.py --weights yolov5s.pt --img 640"
      ],
      "metadata": {
        "id": "1mgxOsi8OPOT"
      },
      "execution_count": null,
      "outputs": []
    }
  ],
  "metadata": {
    "accelerator": "GPU",
    "colab": {
      "provenance": [],
      "include_colab_link": true
    },
    "gpuClass": "standard",
    "kernelspec": {
      "display_name": "Python 3",
      "name": "python3"
    },
    "language_info": {
      "name": "python"
    }
  },
  "nbformat": 4,
  "nbformat_minor": 0
}